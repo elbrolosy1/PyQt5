{
 "cells": [
  {
   "cell_type": "code",
   "execution_count": 1,
   "id": "e23e0612",
   "metadata": {},
   "outputs": [],
   "source": [
    "from PyQt5.QtGui import *\n",
    "from PyQt5.QtCore import *\n",
    "from PyQt5.QtWidgets import *\n",
    "import sys\n",
    "from PyQt5.uic import loadUiType\n",
    "import urllib.request"
   ]
  },
  {
   "cell_type": "code",
   "execution_count": 2,
   "id": "45c00abf",
   "metadata": {},
   "outputs": [],
   "source": [
    "ui, _ = loadUiType('finaledit.ui')\n"
   ]
  },
  {
   "cell_type": "code",
   "execution_count": 3,
   "id": "ffdee113",
   "metadata": {},
   "outputs": [],
   "source": [
    "class MainApp(QMainWindow, ui):\n",
    "    def __init__(self, parent=None):\n",
    "        super(MainApp, self).__init__(parent)\n",
    "        self.setupUi(self)\n",
    "        self.Handle_UI()\n",
    "        self.Handle_Buttons()"
   ]
  },
  {
   "cell_type": "code",
   "execution_count": 4,
   "id": "f29e3c6e",
   "metadata": {},
   "outputs": [],
   "source": [
    "def Handle_UI(self):\n",
    "        self.setWindowTitle('My download app')\n",
    "        self.setFixedSize(865, 440)\n",
    "def Handle_Buttons(self):\n",
    "        self.pushButton.clicked.connect(self.download)       \n",
    "        self.pushButton_2.clicked.connect(self.Handle_Browse) \n",
    "def Handle_Browse(self):\n",
    "            save_location, _ = QFileDialog.getSaveFileName(self, \"Save As\", \"\", \"All Files (*.*)\")\n",
    "            if save_location:\n",
    "                self.lineEdit_2.setText(save_location)           \n",
    "def Handle_Progress(self, blocknum, blockSize, totalSize):\n",
    "        read = blocknum * blockSize\n",
    "        if totalSize > 0:\n",
    "            percent = read * 100 / totalSize\n",
    "            self.progressBar.setValue(int(percent))\n",
    "            QApplication.processEvents()"
   ]
  },
  {
   "cell_type": "code",
   "execution_count": 5,
   "id": "8d7a38fc",
   "metadata": {},
   "outputs": [],
   "source": [
    "    def download(self):\n",
    "        print('Start Download')\n",
    "        download_url = self.lineEdit.text()\n",
    "        save_location = self.lineEdit_2.text()\n",
    "\n",
    "        try:\n",
    "            urllib.request.urlretrieve(download_url, save_location, self.Handle_Progress)\n",
    "        except urllib.error.URLError as e:\n",
    "            QMessageBox.warning(self, \"Download Error\", f\"Failed to download the file. Error: {str(e)}\")\n",
    "            return\n",
    "        except Exception as e:\n",
    "            QMessageBox.warning(self, \"Download Error\", f\"An error occurred during the download: {str(e)}\")\n",
    "            return\n",
    "        QMessageBox.information(self, \"Download Completed\", \"The download completed successfully.\")\n",
    "        self.lineEdit.setText('')\n",
    "        self.lineEdit_2.setText('')\n",
    "        self.progressBar.setValue(0)\n"
   ]
  },
  {
   "cell_type": "code",
   "execution_count": 6,
   "id": "cf6a0851",
   "metadata": {},
   "outputs": [
    {
     "ename": "AttributeError",
     "evalue": "'MainApp' object has no attribute 'Handle_UI'",
     "output_type": "error",
     "traceback": [
      "\u001b[1;31m---------------------------------------------------------------------------\u001b[0m",
      "\u001b[1;31mAttributeError\u001b[0m                            Traceback (most recent call last)",
      "\u001b[1;32m~\\AppData\\Local\\Temp\\ipykernel_5308\\3880294419.py\u001b[0m in \u001b[0;36m<module>\u001b[1;34m\u001b[0m\n\u001b[0;32m      7\u001b[0m \u001b[1;33m\u001b[0m\u001b[0m\n\u001b[0;32m      8\u001b[0m \u001b[1;32mif\u001b[0m \u001b[0m__name__\u001b[0m \u001b[1;33m==\u001b[0m \u001b[1;34m'__main__'\u001b[0m\u001b[1;33m:\u001b[0m\u001b[1;33m\u001b[0m\u001b[1;33m\u001b[0m\u001b[0m\n\u001b[1;32m----> 9\u001b[1;33m     \u001b[0mmain\u001b[0m\u001b[1;33m(\u001b[0m\u001b[1;33m)\u001b[0m\u001b[1;33m\u001b[0m\u001b[1;33m\u001b[0m\u001b[0m\n\u001b[0m",
      "\u001b[1;32m~\\AppData\\Local\\Temp\\ipykernel_5308\\3880294419.py\u001b[0m in \u001b[0;36mmain\u001b[1;34m()\u001b[0m\n\u001b[0;32m      1\u001b[0m \u001b[1;32mdef\u001b[0m \u001b[0mmain\u001b[0m\u001b[1;33m(\u001b[0m\u001b[1;33m)\u001b[0m\u001b[1;33m:\u001b[0m\u001b[1;33m\u001b[0m\u001b[1;33m\u001b[0m\u001b[0m\n\u001b[0;32m      2\u001b[0m     \u001b[0mapp\u001b[0m \u001b[1;33m=\u001b[0m \u001b[0mQApplication\u001b[0m\u001b[1;33m(\u001b[0m\u001b[0msys\u001b[0m\u001b[1;33m.\u001b[0m\u001b[0margv\u001b[0m\u001b[1;33m)\u001b[0m\u001b[1;33m\u001b[0m\u001b[1;33m\u001b[0m\u001b[0m\n\u001b[1;32m----> 3\u001b[1;33m     \u001b[0mwindow\u001b[0m \u001b[1;33m=\u001b[0m \u001b[0mMainApp\u001b[0m\u001b[1;33m(\u001b[0m\u001b[1;33m)\u001b[0m\u001b[1;33m\u001b[0m\u001b[1;33m\u001b[0m\u001b[0m\n\u001b[0m\u001b[0;32m      4\u001b[0m     \u001b[0mwindow\u001b[0m\u001b[1;33m.\u001b[0m\u001b[0mshow\u001b[0m\u001b[1;33m(\u001b[0m\u001b[1;33m)\u001b[0m\u001b[1;33m\u001b[0m\u001b[1;33m\u001b[0m\u001b[0m\n\u001b[0;32m      5\u001b[0m     \u001b[0mapp\u001b[0m\u001b[1;33m.\u001b[0m\u001b[0mexec_\u001b[0m\u001b[1;33m(\u001b[0m\u001b[1;33m)\u001b[0m\u001b[1;33m\u001b[0m\u001b[1;33m\u001b[0m\u001b[0m\n",
      "\u001b[1;32m~\\AppData\\Local\\Temp\\ipykernel_5308\\2445246310.py\u001b[0m in \u001b[0;36m__init__\u001b[1;34m(self, parent)\u001b[0m\n\u001b[0;32m      3\u001b[0m         \u001b[0msuper\u001b[0m\u001b[1;33m(\u001b[0m\u001b[0mMainApp\u001b[0m\u001b[1;33m,\u001b[0m \u001b[0mself\u001b[0m\u001b[1;33m)\u001b[0m\u001b[1;33m.\u001b[0m\u001b[0m__init__\u001b[0m\u001b[1;33m(\u001b[0m\u001b[0mparent\u001b[0m\u001b[1;33m)\u001b[0m\u001b[1;33m\u001b[0m\u001b[1;33m\u001b[0m\u001b[0m\n\u001b[0;32m      4\u001b[0m         \u001b[0mself\u001b[0m\u001b[1;33m.\u001b[0m\u001b[0msetupUi\u001b[0m\u001b[1;33m(\u001b[0m\u001b[0mself\u001b[0m\u001b[1;33m)\u001b[0m\u001b[1;33m\u001b[0m\u001b[1;33m\u001b[0m\u001b[0m\n\u001b[1;32m----> 5\u001b[1;33m         \u001b[0mself\u001b[0m\u001b[1;33m.\u001b[0m\u001b[0mHandle_UI\u001b[0m\u001b[1;33m(\u001b[0m\u001b[1;33m)\u001b[0m\u001b[1;33m\u001b[0m\u001b[1;33m\u001b[0m\u001b[0m\n\u001b[0m\u001b[0;32m      6\u001b[0m         \u001b[0mself\u001b[0m\u001b[1;33m.\u001b[0m\u001b[0mHandle_Buttons\u001b[0m\u001b[1;33m(\u001b[0m\u001b[1;33m)\u001b[0m\u001b[1;33m\u001b[0m\u001b[1;33m\u001b[0m\u001b[0m\n",
      "\u001b[1;31mAttributeError\u001b[0m: 'MainApp' object has no attribute 'Handle_UI'"
     ]
    }
   ],
   "source": [
    "def main():\n",
    "    app = QApplication(sys.argv)\n",
    "    window = MainApp()\n",
    "    window.show()\n",
    "    app.exec_()\n",
    "\n",
    "\n",
    "if __name__ == '__main__':\n",
    "    main()"
   ]
  },
  {
   "cell_type": "code",
   "execution_count": 8,
   "id": "154d04d4",
   "metadata": {},
   "outputs": [
    {
     "name": "stdout",
     "output_type": "stream",
     "text": [
      "Start Download\n",
      "Start Download\n",
      "Start Download\n"
     ]
    }
   ],
   "source": [
    "from PyQt5.QtGui import *\n",
    "from PyQt5.QtCore import *\n",
    "from PyQt5.QtWidgets import *\n",
    "import sys\n",
    "from PyQt5.uic import loadUiType\n",
    "import urllib.request\n",
    "\n",
    "ui, _ = loadUiType('finaledit.ui')\n",
    "\n",
    "\n",
    "class MainApp(QMainWindow, ui):\n",
    "    def __init__(self, parent=None):\n",
    "        super(MainApp, self).__init__(parent)\n",
    "        self.setupUi(self)\n",
    "        self.Handle_UI()\n",
    "        self.Handle_Buttons()\n",
    "\n",
    "    def Handle_UI(self):\n",
    "        self.setWindowTitle('My download app')\n",
    "        self.setFixedSize(865, 440)\n",
    "\n",
    "    def Handle_Buttons(self):\n",
    "        self.pushButton.clicked.connect(self.download)       # Connect the Download button\n",
    "        self.pushButton_2.clicked.connect(self.Handle_Browse)    # Connect the Browse button\n",
    "\n",
    "    def Handle_Browse(self):\n",
    "        # Open the dialog to select save location\n",
    "        save_location, _ = QFileDialog.getSaveFileName(self, \"Save As\", \"\", \"All Files (*.*)\")\n",
    "        \n",
    "        # Update lineEdit_2 with the selected save location if provided\n",
    "        if save_location:\n",
    "            self.lineEdit_2.setText(save_location)\n",
    "\n",
    "    def download(self):\n",
    "        print('Start Download')\n",
    "        download_url = self.lineEdit.text()\n",
    "        save_location = self.lineEdit_2.text()\n",
    "\n",
    "        try:\n",
    "            # Download the file and update the progress bar\n",
    "            urllib.request.urlretrieve(download_url, save_location, self.Handle_Progress)\n",
    "        except urllib.error.URLError as e:\n",
    "            QMessageBox.warning(self, \"Download Error\", f\"Failed to download the file. Error: {str(e)}\")\n",
    "            return\n",
    "        except Exception as e:\n",
    "            QMessageBox.warning(self, \"Download Error\", f\"An error occurred during the download: {str(e)}\")\n",
    "            return\n",
    "\n",
    "        # Inform user of successful download and reset fields\n",
    "        QMessageBox.information(self, \"Download Completed\", \"The download completed successfully.\")\n",
    "        self.lineEdit.setText('')\n",
    "        self.lineEdit_2.setText('')\n",
    "        self.progressBar.setValue(0)\n",
    "\n",
    "    def Handle_Progress(self, blocknum, blockSize, totalSize):\n",
    "        read = blocknum * blockSize\n",
    "        if totalSize > 0:\n",
    "            percent = read * 100 / totalSize\n",
    "            self.progressBar.setValue(int(percent))\n",
    "            QApplication.processEvents()\n",
    "\n",
    "\n",
    "def main():\n",
    "    app = QApplication(sys.argv)\n",
    "    window = MainApp()\n",
    "    window.show()\n",
    "    app.exec_()\n",
    "\n",
    "\n",
    "if __name__ == '__main__':\n",
    "    main()\n"
   ]
  },
  {
   "cell_type": "code",
   "execution_count": null,
   "id": "916c5718",
   "metadata": {},
   "outputs": [],
   "source": []
  }
 ],
 "metadata": {
  "kernelspec": {
   "display_name": "Python 3 (ipykernel)",
   "language": "python",
   "name": "python3"
  },
  "language_info": {
   "codemirror_mode": {
    "name": "ipython",
    "version": 3
   },
   "file_extension": ".py",
   "mimetype": "text/x-python",
   "name": "python",
   "nbconvert_exporter": "python",
   "pygments_lexer": "ipython3",
   "version": "3.9.13"
  }
 },
 "nbformat": 4,
 "nbformat_minor": 5
}
